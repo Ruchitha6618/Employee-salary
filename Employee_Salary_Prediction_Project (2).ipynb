{
  "cells": [
    {
      "cell_type": "markdown",
      "id": "705c2857",
      "metadata": {
        "id": "705c2857"
      },
      "source": [
        "# Employee Salary Prediction using Machine Learning\n",
        "This project predicts employee salaries based on features like experience, education, job role, location, and industry."
      ]
    },
    {
      "cell_type": "code",
      "execution_count": null,
      "id": "fe38a24a",
      "metadata": {
        "id": "fe38a24a"
      },
      "outputs": [],
      "source": [
        "import pandas as pd\n",
        "import numpy as np\n",
        "import matplotlib.pyplot as plt\n",
        "import seaborn as sns\n",
        "\n",
        "from sklearn.model_selection import train_test_split\n",
        "from sklearn.linear_model import LinearRegression\n",
        "from sklearn.metrics import mean_squared_error, r2_score"
      ]
    },
    {
      "cell_type": "markdown",
      "id": "09aaedcf",
      "metadata": {
        "id": "09aaedcf"
      },
      "source": [
        "## Load Sample Dataset"
      ]
    },
    {
      "cell_type": "code",
      "execution_count": null,
      "id": "4d59eedc",
      "metadata": {
        "id": "4d59eedc"
      },
      "outputs": [],
      "source": [
        "# Sample dataset\n",
        "data = {\n",
        "    'experience': [1, 3, 5, 7, 9],\n",
        "    'education': ['Bachelors', 'Masters', 'PhD', 'Bachelors', 'Masters'],\n",
        "    'job_role': ['Developer', 'Manager', 'Data Scientist', 'Developer', 'Manager'],\n",
        "    'location': ['Delhi', 'Mumbai', 'Bangalore', 'Hyderabad', 'Chennai'],\n",
        "    'industry': ['Tech', 'Finance', 'Healthcare', 'Tech', 'Finance'],\n",
        "    'salary': [30000, 50000, 90000, 60000, 70000]\n",
        "}\n",
        "\n",
        "# Create DataFrame\n",
        "df = pd.DataFrame(data)\n",
        "df.head()"
      ]
    },
    {
      "cell_type": "markdown",
      "id": "8af44d12",
      "metadata": {
        "id": "8af44d12"
      },
      "source": [
        "## Data Preprocessing (Encoding Categorical Features)"
      ]
    },
    {
      "cell_type": "code",
      "execution_count": null,
      "id": "6e608c1f",
      "metadata": {
        "id": "6e608c1f"
      },
      "outputs": [],
      "source": [
        "# Encode categorical variables using one-hot encoding\n",
        "df_encoded = pd.get_dummies(df, columns=['education', 'job_role', 'location', 'industry'], drop_first=True)"
      ]
    },
    {
      "cell_type": "markdown",
      "id": "1a217032",
      "metadata": {
        "id": "1a217032"
      },
      "source": [
        "## Split Data into Training and Test Sets"
      ]
    },
    {
      "cell_type": "code",
      "execution_count": null,
      "id": "81b2dc2f",
      "metadata": {
        "id": "81b2dc2f"
      },
      "outputs": [],
      "source": [
        "# Separate features and target\n",
        "X = df_encoded.drop('salary', axis=1)\n",
        "y = df_encoded['salary']\n",
        "\n",
        "# Train/test split\n",
        "X_train, X_test, y_train, y_test = train_test_split(X, y, test_size=0.2, random_state=42)"
      ]
    },
    {
      "cell_type": "markdown",
      "id": "664e2cac",
      "metadata": {
        "id": "664e2cac"
      },
      "source": [
        "## Train Linear Regression Model"
      ]
    },
    {
      "cell_type": "code",
      "execution_count": null,
      "id": "d91e262b",
      "metadata": {
        "id": "d91e262b"
      },
      "outputs": [],
      "source": [
        "# Train model\n",
        "model = LinearRegression()\n",
        "model.fit(X_train, y_train)"
      ]
    },
    {
      "cell_type": "markdown",
      "id": "44eb6a25",
      "metadata": {
        "id": "44eb6a25"
      },
      "source": [
        "## Model Evaluation"
      ]
    },
    {
      "cell_type": "code",
      "execution_count": null,
      "id": "65663336",
      "metadata": {
        "id": "65663336"
      },
      "outputs": [],
      "source": [
        "# Predict and evaluate\n",
        "y_pred = model.predict(X_test)\n",
        "\n",
        "r2 = r2_score(y_test, y_pred)\n",
        "mse = mean_squared_error(y_test, y_pred)\n",
        "\n",
        "print(\"R² Score:\", r2)\n",
        "print(\"Mean Squared Error:\", mse)"
      ]
    },
    {
      "cell_type": "markdown",
      "id": "6f5412fc",
      "metadata": {
        "id": "6f5412fc"
      },
      "source": [
        "## Visualization: Actual vs Predicted Salary"
      ]
    },
    {
      "cell_type": "code",
      "execution_count": null,
      "id": "a2563fa8",
      "metadata": {
        "id": "a2563fa8"
      },
      "outputs": [],
      "source": [
        "plt.figure(figsize=(8, 5))\n",
        "sns.scatterplot(x=y_test, y=y_pred)\n",
        "plt.plot([y.min(), y.max()], [y.min(), y.max()], 'r--')\n",
        "plt.xlabel(\"Actual Salary\")\n",
        "plt.ylabel(\"Predicted Salary\")\n",
        "plt.title(\"Actual vs Predicted Salary\")\n",
        "plt.grid(True)\n",
        "plt.show()"
      ]
    },
    {
      "cell_type": "markdown",
      "id": "34ced37b",
      "metadata": {
        "id": "34ced37b"
      },
      "source": [
        "## Conclusion\n",
        "This model is a simple Linear Regression approach."
      ]
    }
  ],
  "metadata": {
    "colab": {
      "provenance": []
    }
  },
  "nbformat": 4,
  "nbformat_minor": 5
}